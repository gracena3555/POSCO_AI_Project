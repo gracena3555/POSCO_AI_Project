{
 "cells": [
  {
   "cell_type": "code",
   "execution_count": 1,
   "metadata": {},
   "outputs": [],
   "source": [
    "#conda install tqdm\n"
   ]
  },
  {
   "cell_type": "code",
   "execution_count": 2,
   "metadata": {},
   "outputs": [],
   "source": [
    "#conda install -c conda-forge imbalanced-learn"
   ]
  },
  {
   "cell_type": "code",
   "execution_count": 3,
   "metadata": {},
   "outputs": [
    {
     "name": "stdout",
     "output_type": "stream",
     "text": [
      "[name: \"/device:CPU:0\"\n",
      "device_type: \"CPU\"\n",
      "memory_limit: 268435456\n",
      "locality {\n",
      "}\n",
      "incarnation: 6207049017721789933\n",
      ", name: \"/device:GPU:0\"\n",
      "device_type: \"GPU\"\n",
      "memory_limit: 7612386528\n",
      "locality {\n",
      "  bus_id: 1\n",
      "  links {\n",
      "  }\n",
      "}\n",
      "incarnation: 8384797704904798117\n",
      "physical_device_desc: \"device: 0, name: GeForce RTX 2080, pci bus id: 0000:17:00.0, compute capability: 7.5\"\n",
      ", name: \"/device:GPU:1\"\n",
      "device_type: \"GPU\"\n",
      "memory_limit: 7095838336\n",
      "locality {\n",
      "  bus_id: 1\n",
      "  links {\n",
      "  }\n",
      "}\n",
      "incarnation: 15301722550019455996\n",
      "physical_device_desc: \"device: 1, name: GeForce RTX 2080, pci bus id: 0000:b3:00.0, compute capability: 7.5\"\n",
      "]\n"
     ]
    }
   ],
   "source": [
    "from tensorflow.python.client import device_lib\n",
    "print(device_lib.list_local_devices())"
   ]
  },
  {
   "cell_type": "code",
   "execution_count": 4,
   "metadata": {},
   "outputs": [],
   "source": [
    "import os\n",
    "import numpy as np\n",
    "import matplotlib.pyplot as plt\n",
    "from itertools import combinations\n",
    "from sklearn.metrics import roc_curve\n",
    "from sklearn.metrics import roc_auc_score\n",
    "from sklearn.utils import resample\n",
    "from sklearn.model_selection import train_test_split\n",
    "from tqdm import tqdm\n",
    "\n",
    "# os.environ[\"KERAS_BACKEND\"] = \"plaidml.keras.backend\"\n",
    "\n",
    "from keras.models import Sequential\n",
    "from keras.layers import Dense, Activation, BatchNormalization, Dropout\n",
    "from keras.callbacks import CSVLogger"
   ]
  },
  {
   "cell_type": "code",
   "execution_count": 5,
   "metadata": {
    "scrolled": false
   },
   "outputs": [
    {
     "name": "stdout",
     "output_type": "stream",
     "text": [
      "trianglepose.npy\n",
      "(67,)\n",
      "Intense_Side_Stretch_Pose.npy\n",
      "(25,)\n",
      "Boat_Pose.npy\n",
      "(50, 1, 25, 3)\n",
      "Upward_Salute.npy\n",
      "(21,)\n",
      "wideseatedforwardbend.npy\n",
      "(34, 1, 25, 3)\n",
      "Fire_Log_Pose.npy\n",
      "(13, 1, 25, 3)\n",
      "lunge_kick_total2.npy\n",
      "(148, 1, 25, 3)\n",
      "chest_open_total_2.npy\n",
      "(154, 1, 25, 3)\n",
      "seatedforwardbend.npy\n",
      "(53,)\n",
      "Extended_Triangle_Pose.npy\n",
      "(57,)\n",
      "Staff_Pose.npy\n",
      "(21, 1, 25, 3)\n",
      "chest_open_total_3.npy\n",
      "(226, 1, 25, 3)\n",
      "mountain.npy\n",
      "(155, 1, 25, 3)\n",
      "lunge_kick_total3.npy\n",
      "(154, 1, 25, 3)\n",
      "tree.npy\n",
      "(66,)\n",
      "wheel.npy\n",
      "(8, 1, 25, 3)\n",
      "lunge_kick_total1.npy\n",
      "(162, 1, 25, 3)\n",
      "Dolphin_Pose.npy\n",
      "(52,)\n",
      "Garland_Pose.npy\n",
      "(60,)\n",
      "chest_open_total_4.npy\n",
      "(108, 1, 25, 3)\n",
      "warrior1.npy\n",
      "(57,)\n",
      "squat_cross_total2.npy\n",
      "(176, 1, 25, 3)\n",
      "mountain_climber_total3.npy\n",
      "(147, 1, 25, 3)\n",
      "downwarddog.npy\n",
      "(106,)\n",
      "Chair_Pose.npy\n",
      "(60,)\n",
      "chest_open_total_1.npy\n",
      "(127, 1, 25, 3)\n",
      "Heron_Pose.npy\n",
      "(23, 1, 25, 3)\n",
      "mountain_climber_total1.npy\n",
      "(173, 1, 25, 3)\n",
      "squat_cross_total4.npy\n",
      "(90, 1, 25, 3)\n",
      "plank.npy\n",
      "(34,)\n",
      "Lord_of_the_Dance_Pose.npy\n",
      "(39, 1, 25, 3)\n",
      "lunge_kick_total4.npy\n",
      "(111, 1, 25, 3)\n",
      "Lotus_Pose.npy\n",
      "(48, 1, 25, 3)\n",
      "squat_cross_total3.npy\n",
      "(91, 1, 25, 3)\n",
      "Extended_Hand_To_Big_Toe_Pose.npy\n",
      "(38, 1, 25, 3)\n",
      "Half_Moon_Pose.npy\n",
      "(58, 1, 25, 3)\n",
      "Cow_Face_Pose.npy\n",
      "(36, 1, 25, 3)\n",
      "childs.npy\n",
      "(66,)\n",
      "squat_cross_total1.npy\n",
      "(147, 1, 25, 3)\n",
      "Bound_Angle_Pose.npy\n",
      "(35, 1, 25, 3)\n",
      "sideplank.npy\n",
      "(9, 1, 25, 3)\n",
      "Hero_Pose.npy\n",
      "(14, 1, 25, 3)\n",
      "mountain_climber_total2.npy\n",
      "(50, 1, 25, 3)\n",
      "Big_Toe_Pose.npy\n",
      "(16,)\n",
      "Gate_Pose.npy\n",
      "(56, 1, 25, 3)\n",
      "Standing_Split.npy\n",
      "(35,)\n",
      "Downward_Facing_Dog.npy\n",
      "(47,)\n",
      "warrior2.npy\n",
      "(60,)\n",
      "bridge.npy\n",
      "(45,)\n",
      "Half_Lord_of_the_Fishes_Pose.npy\n",
      "(17,)\n",
      "Eagle_Pose.npy\n",
      "(53,)\n",
      "X_data shape: (3604, 25, 3)\n",
      "y_data shape: (3604,)\n"
     ]
    }
   ],
   "source": [
    "# Read all npy files\n",
    "X_data = []\n",
    "y_data = []\n",
    "k = 0\n",
    "for f in os.scandir(\"./coord_total_with_yoga\"):\n",
    "    if f.is_file() and f.name != '.DS_Store':\n",
    "        x = np.load(f, allow_pickle=True)\n",
    "        print(f.name)\n",
    "        print(x.shape)\n",
    "        #print(x[0])\n",
    "        # Remove empty coords\n",
    "        x = [coords for coords in x if 1 in coords.shape]\n",
    "        #print(x)\n",
    "        x = np.concatenate(x)\n",
    "        #print(x)\n",
    "        X_data.append(x)\n",
    "        y_data.extend([k]*x.shape[0])\n",
    "        k += 1\n",
    "\n",
    "X_data = np.concatenate(X_data)\n",
    "#print(X_data)\n",
    "y_data = np.array(y_data)\n",
    "\n",
    "# Sanity check\n",
    "print(\"X_data shape: {}\".format(X_data.shape))\n",
    "print(\"y_data shape: {}\".format(y_data.shape))"
   ]
  },
  {
   "cell_type": "code",
   "execution_count": 6,
   "metadata": {},
   "outputs": [],
   "source": [
    "def scale_transform_normalize(coords):\n",
    "    \"\"\"\n",
    "    Parameters:\n",
    "    coords (ndarray): array of (x,y,c) coordinates\n",
    "\n",
    "    Returns:\n",
    "    ndarray: coords scaled to 1x1 with center at (0,0)\n",
    "    ndarray: confidence scores of each joint\n",
    "    \"\"\"\n",
    "    coords, scores = coords[:,:,:-1], coords[:,:,-1]\n",
    "    diff = coords.max(axis=1) - coords.min(axis=1)\n",
    "    diff_max = np.max(diff, axis=0)\n",
    "    mean = coords.mean(axis=1).reshape(coords.shape[0],1,coords.shape[-1])\n",
    "    out = (coords - mean) / diff_max\n",
    "    \n",
    "    return out, scores"
   ]
  },
  {
   "cell_type": "code",
   "execution_count": 7,
   "metadata": {},
   "outputs": [
    {
     "name": "stderr",
     "output_type": "stream",
     "text": [
      "\r",
      "0it [00:00, ?it/s]"
     ]
    },
    {
     "name": "stdout",
     "output_type": "stream",
     "text": [
      "3604\n"
     ]
    },
    {
     "name": "stderr",
     "output_type": "stream",
     "text": [
      "6492606it [00:31, 207277.37it/s]\n"
     ]
    }
   ],
   "source": [
    "N,D,C = X_data.shape\n",
    "print(N)\n",
    "# Prepare X\n",
    "X_norm, scores = scale_transform_normalize(X_data)\n",
    "scores = scores.reshape((N, D, 1))\n",
    "X_data = np.concatenate([X_norm, scores], axis=2)\n",
    "#print(X_data)\n",
    "X_data /= np.linalg.norm(X_data, axis=2)[:, :, np.newaxis]\n",
    "X = []\n",
    "\n",
    "# Prepare y\n",
    "y = []\n",
    "\n",
    "# Grab every possible combination of 2 rows\n",
    "for index in tqdm(combinations(np.arange(N), 2)):\n",
    "    vec_1 = X_data[index[0]]\n",
    "    vec_2 = X_data[index[1]]\n",
    "    X.append(np.concatenate([vec_1, vec_2]).flatten())\n",
    "    y.append(int(y_data[index[0]] == y_data[index[1]]))"
   ]
  },
  {
   "cell_type": "code",
   "execution_count": 8,
   "metadata": {},
   "outputs": [
    {
     "name": "stdout",
     "output_type": "stream",
     "text": [
      "198173\n",
      "6294433\n"
     ]
    }
   ],
   "source": [
    "# Downsample majority class\n",
    "X = np.array(X)\n",
    "y = np.array(y)\n",
    "trues = X[y == 1]\n",
    "falses = X[y == 0]\n",
    "#small_falses = resample(falses, n_samples=trues.shape[0])\n",
    "\n",
    "#balanced_X = np.concatenate([trues, small_falses])\n",
    "#balanced_y = np.concatenate([np.ones((trues.shape[0],)), np.zeros((trues.shape[0]))])\n",
    "balanced_X = np.concatenate([trues, falses])\n",
    "balanced_y = np.concatenate([np.ones((trues.shape[0],)), np.zeros((falses.shape[0]))])\n",
    "print(trues.shape[0])\n",
    "print(falses.shape[0])"
   ]
  },
  {
   "cell_type": "code",
   "execution_count": 9,
   "metadata": {},
   "outputs": [],
   "source": [
    "from imblearn.over_sampling import SMOTE\n",
    "smote = SMOTE(sampling_strategy='not minority', random_state=0)"
   ]
  },
  {
   "cell_type": "code",
   "execution_count": 10,
   "metadata": {},
   "outputs": [
    {
     "name": "stdout",
     "output_type": "stream",
     "text": [
      "(4350046, 150)\n",
      "(4350046,)\n"
     ]
    }
   ],
   "source": [
    "# Split data\n",
    "x_train, x_test, Y_train, Y_test = train_test_split(balanced_X, balanced_y, test_size=0.33)\n",
    "print(x_train.shape)\n",
    "print(Y_train.shape)"
   ]
  },
  {
   "cell_type": "code",
   "execution_count": 11,
   "metadata": {},
   "outputs": [],
   "source": [
    "X_train, y_train = smote.fit_resample(x_train, Y_train)\n",
    "X_test, y_test = smote.fit_resample(x_test, Y_test)\n"
   ]
  },
  {
   "cell_type": "code",
   "execution_count": 12,
   "metadata": {},
   "outputs": [],
   "source": [
    "# # Split data\n",
    "# X_train, X_test, y_train, y_test = train_test_split(balanced_X, balanced_y, test_size=0.33)\n",
    "\n",
    "# Define network\n",
    "model = Sequential([\n",
    "    Dense(128, input_shape=(X_train.shape[1],)),\n",
    "    BatchNormalization(),\n",
    "    Activation('relu'),\n",
    "    Dense(128),\n",
    "    BatchNormalization(),\n",
    "    Activation('relu'),\n",
    "    Dense(1),\n",
    "    BatchNormalization(),\n",
    "    Activation('sigmoid'),\n",
    "])\n",
    "\n",
    "model.compile(optimizer='adam',\n",
    "              loss='binary_crossentropy',\n",
    "              metrics=['accuracy'])"
   ]
  },
  {
   "cell_type": "code",
   "execution_count": 13,
   "metadata": {},
   "outputs": [
    {
     "name": "stdout",
     "output_type": "stream",
     "text": [
      "Model: \"sequential\"\n",
      "_________________________________________________________________\n",
      "Layer (type)                 Output Shape              Param #   \n",
      "=================================================================\n",
      "dense (Dense)                (None, 128)               19328     \n",
      "_________________________________________________________________\n",
      "batch_normalization (BatchNo (None, 128)               512       \n",
      "_________________________________________________________________\n",
      "activation (Activation)      (None, 128)               0         \n",
      "_________________________________________________________________\n",
      "dense_1 (Dense)              (None, 128)               16512     \n",
      "_________________________________________________________________\n",
      "batch_normalization_1 (Batch (None, 128)               512       \n",
      "_________________________________________________________________\n",
      "activation_1 (Activation)    (None, 128)               0         \n",
      "_________________________________________________________________\n",
      "dense_2 (Dense)              (None, 1)                 129       \n",
      "_________________________________________________________________\n",
      "batch_normalization_2 (Batch (None, 1)                 4         \n",
      "_________________________________________________________________\n",
      "activation_2 (Activation)    (None, 1)                 0         \n",
      "=================================================================\n",
      "Total params: 36,997\n",
      "Trainable params: 36,483\n",
      "Non-trainable params: 514\n",
      "_________________________________________________________________\n"
     ]
    }
   ],
   "source": [
    "model.summary()"
   ]
  },
  {
   "cell_type": "code",
   "execution_count": 14,
   "metadata": {},
   "outputs": [
    {
     "data": {
      "text/plain": [
       "150"
      ]
     },
     "execution_count": 14,
     "metadata": {},
     "output_type": "execute_result"
    }
   ],
   "source": [
    "X_train.shape[1]"
   ]
  },
  {
   "cell_type": "code",
   "execution_count": 15,
   "metadata": {},
   "outputs": [],
   "source": [
    "from keras.callbacks import EarlyStopping\n",
    "early_stopping = EarlyStopping(patience = 5) # 조기종료 콜백함수 정의\n",
    "#hist = model.fit(X_train, Y_train, epochs=3000, batch_size=10, validation_data=(X_val, Y_val), )"
   ]
  },
  {
   "cell_type": "code",
   "execution_count": 16,
   "metadata": {},
   "outputs": [
    {
     "name": "stdout",
     "output_type": "stream",
     "text": [
      "Epoch 1/100\n",
      "22770/22770 [==============================] - 210s 9ms/step - loss: 0.1901 - accuracy: 0.9453 - val_loss: 0.0606 - val_accuracy: 0.9783\n",
      "Epoch 2/100\n",
      "22770/22770 [==============================] - 208s 9ms/step - loss: 0.0280 - accuracy: 0.9911 - val_loss: 0.0467 - val_accuracy: 0.9848\n",
      "Epoch 3/100\n",
      "22770/22770 [==============================] - 206s 9ms/step - loss: 0.0213 - accuracy: 0.9933 - val_loss: 0.0463 - val_accuracy: 0.9861\n",
      "Epoch 4/100\n",
      "22770/22770 [==============================] - 209s 9ms/step - loss: 0.0180 - accuracy: 0.9942 - val_loss: 0.0460 - val_accuracy: 0.9831\n",
      "Epoch 5/100\n",
      "22770/22770 [==============================] - 210s 9ms/step - loss: 0.0160 - accuracy: 0.9948 - val_loss: 0.0360 - val_accuracy: 0.9890\n",
      "Epoch 6/100\n",
      "22770/22770 [==============================] - 209s 9ms/step - loss: 0.0144 - accuracy: 0.9953 - val_loss: 0.0267 - val_accuracy: 0.9905\n",
      "Epoch 7/100\n",
      "22770/22770 [==============================] - 209s 9ms/step - loss: 0.0131 - accuracy: 0.9956 - val_loss: 0.0363 - val_accuracy: 0.9886\n",
      "Epoch 8/100\n",
      "22770/22770 [==============================] - 210s 9ms/step - loss: 0.0123 - accuracy: 0.9958 - val_loss: 0.0296 - val_accuracy: 0.9907\n",
      "Epoch 9/100\n",
      "22770/22770 [==============================] - 210s 9ms/step - loss: 0.0117 - accuracy: 0.9961 - val_loss: 0.0208 - val_accuracy: 0.9931\n",
      "Epoch 10/100\n",
      "22770/22770 [==============================] - 209s 9ms/step - loss: 0.0111 - accuracy: 0.9963 - val_loss: 0.0885 - val_accuracy: 0.9865\n",
      "Epoch 11/100\n",
      "22770/22770 [==============================] - 209s 9ms/step - loss: 0.0105 - accuracy: 0.9965 - val_loss: 0.0168 - val_accuracy: 0.9933\n",
      "Epoch 12/100\n",
      "22770/22770 [==============================] - 209s 9ms/step - loss: 0.0102 - accuracy: 0.9965 - val_loss: 0.0224 - val_accuracy: 0.9909\n",
      "Epoch 13/100\n",
      "22770/22770 [==============================] - 209s 9ms/step - loss: 0.0096 - accuracy: 0.9967 - val_loss: 0.0147 - val_accuracy: 0.9947\n",
      "Epoch 14/100\n",
      "22770/22770 [==============================] - 209s 9ms/step - loss: 0.0093 - accuracy: 0.9968 - val_loss: 0.1350 - val_accuracy: 0.9842\n",
      "Epoch 15/100\n",
      "22770/22770 [==============================] - 209s 9ms/step - loss: 0.0091 - accuracy: 0.9968 - val_loss: 0.0103 - val_accuracy: 0.9968\n",
      "Epoch 16/100\n",
      "22770/22770 [==============================] - 209s 9ms/step - loss: 0.0087 - accuracy: 0.9970 - val_loss: 0.0143 - val_accuracy: 0.9954\n",
      "Epoch 17/100\n",
      "22770/22770 [==============================] - 209s 9ms/step - loss: 0.0083 - accuracy: 0.9971 - val_loss: 0.0207 - val_accuracy: 0.9936\n",
      "Epoch 18/100\n",
      "22770/22770 [==============================] - 205s 9ms/step - loss: 0.0080 - accuracy: 0.9972 - val_loss: 0.0100 - val_accuracy: 0.9969\n",
      "Epoch 19/100\n",
      "22770/22770 [==============================] - 208s 9ms/step - loss: 0.0079 - accuracy: 0.9973 - val_loss: 0.0123 - val_accuracy: 0.9957\n",
      "Epoch 20/100\n",
      "22770/22770 [==============================] - 207s 9ms/step - loss: 0.0077 - accuracy: 0.9973 - val_loss: 0.0110 - val_accuracy: 0.9964\n",
      "Epoch 21/100\n",
      "22770/22770 [==============================] - 202s 9ms/step - loss: 0.0075 - accuracy: 0.9974 - val_loss: 0.0097 - val_accuracy: 0.9969\n",
      "Epoch 22/100\n",
      "22770/22770 [==============================] - 201s 9ms/step - loss: 0.0073 - accuracy: 0.9974 - val_loss: 0.0289 - val_accuracy: 0.9917\n",
      "Epoch 23/100\n",
      "22770/22770 [==============================] - 201s 9ms/step - loss: 0.0073 - accuracy: 0.9975 - val_loss: 0.0105 - val_accuracy: 0.9965\n",
      "Epoch 24/100\n",
      "22770/22770 [==============================] - 201s 9ms/step - loss: 0.0070 - accuracy: 0.9976 - val_loss: 0.0079 - val_accuracy: 0.9976\n",
      "Epoch 25/100\n",
      "22770/22770 [==============================] - 202s 9ms/step - loss: 0.0068 - accuracy: 0.9976 - val_loss: 0.0141 - val_accuracy: 0.9951\n",
      "Epoch 26/100\n",
      "22770/22770 [==============================] - 204s 9ms/step - loss: 0.0066 - accuracy: 0.9977 - val_loss: 0.0162 - val_accuracy: 0.9951\n",
      "Epoch 27/100\n",
      "22770/22770 [==============================] - 202s 9ms/step - loss: 0.0066 - accuracy: 0.9977 - val_loss: 0.0130 - val_accuracy: 0.9955\n",
      "Epoch 28/100\n",
      "22770/22770 [==============================] - 201s 9ms/step - loss: 0.0065 - accuracy: 0.9977 - val_loss: 0.0101 - val_accuracy: 0.9967\n",
      "Epoch 29/100\n",
      "22770/22770 [==============================] - 202s 9ms/step - loss: 0.0063 - accuracy: 0.9978 - val_loss: 0.0103 - val_accuracy: 0.9965\n"
     ]
    }
   ],
   "source": [
    "# Train\n",
    "csv_logger = CSVLogger(\"model_history_log.csv\", append=True)\n",
    "history = model.fit(x=X_train, y=y_train,\n",
    "                    batch_size=128, epochs=100,\n",
    "                    verbose=1, validation_split=0.33,\n",
    "                    callbacks=[early_stopping])"
   ]
  },
  {
   "cell_type": "code",
   "execution_count": 17,
   "metadata": {},
   "outputs": [
    {
     "data": {
      "text/plain": [
       "[0.9783186316490173,\n",
       " 0.9917588829994202,\n",
       " 0.9934884905815125,\n",
       " 0.9942776560783386,\n",
       " 0.9948478937149048,\n",
       " 0.9952407479286194,\n",
       " 0.9956013560295105,\n",
       " 0.9958555698394775,\n",
       " 0.9960580468177795,\n",
       " 0.9962399005889893,\n",
       " 0.9964313507080078,\n",
       " 0.996519148349762,\n",
       " 0.9966492056846619,\n",
       " 0.9967785477638245,\n",
       " 0.9968701601028442,\n",
       " 0.9969916343688965,\n",
       " 0.997046172618866,\n",
       " 0.9971669316291809,\n",
       " 0.9972777962684631,\n",
       " 0.9973028302192688,\n",
       " 0.9973707795143127,\n",
       " 0.9974057674407959,\n",
       " 0.9974342584609985,\n",
       " 0.9975186586380005,\n",
       " 0.9975457191467285,\n",
       " 0.9976068139076233,\n",
       " 0.9976599812507629,\n",
       " 0.9976853728294373,\n",
       " 0.9977653622627258]"
      ]
     },
     "execution_count": 17,
     "metadata": {},
     "output_type": "execute_result"
    }
   ],
   "source": [
    "history.history['accuracy']"
   ]
  },
  {
   "cell_type": "code",
   "execution_count": 18,
   "metadata": {},
   "outputs": [
    {
     "data": {
      "image/png": "[encoded data removed]",
      "text/plain": [
       "<Figure size 432x288 with 1 Axes>"
      ]
     },
     "metadata": {
      "needs_background": "light"
     },
     "output_type": "display_data"
    },
    {
     "data": {
      "image/png": "[encoded data removed]",
      "text/plain": [
       "<Figure size 432x288 with 1 Axes>"
      ]
     },
     "metadata": {
      "needs_background": "light"
     },
     "output_type": "display_data"
    }
   ],
   "source": [
    "# summarize history for accuracy\n",
    "\n",
    "plt.plot(history.history['accuracy'])\n",
    "plt.plot(history.history['val_accuracy'])\n",
    "plt.title('model accuracy')\n",
    "plt.ylabel('accuracy')\n",
    "plt.xlabel('epoch')\n",
    "plt.legend(['train', 'test'], loc='upper left')\n",
    "plt.show()\n",
    "\n",
    "# summarize history for loss\n",
    "plt.plot(history.history['loss'])\n",
    "plt.plot(history.history['val_loss'])\n",
    "plt.title('model loss')\n",
    "plt.ylabel('loss')\n",
    "plt.xlabel('epoch')\n",
    "plt.legend(['train', 'test'], loc='upper left')\n",
    "plt.show()"
   ]
  },
  {
   "cell_type": "code",
   "execution_count": 19,
   "metadata": {},
   "outputs": [
    {
     "name": "stdout",
     "output_type": "stream",
     "text": [
      "AUC: 0.999\n"
     ]
    },
    {
     "data": {
      "image/png": "[encoded data removed]",
      "text/plain": [
       "<Figure size 432x288 with 1 Axes>"
      ]
     },
     "metadata": {
      "needs_background": "light"
     },
     "output_type": "display_data"
    }
   ],
   "source": [
    "# Test\n",
    "y_pred = model.predict(X_test)\n",
    "\n",
    "# Check ROC, AUC\n",
    "fpr, tpr, thresholds = roc_curve(y_test, y_pred)\n",
    "auc = roc_auc_score(y_test, y_pred)\n",
    "print('AUC: %.3f' % auc)\n",
    "\n",
    "# Plot\n",
    "plt.plot([0, 1], [0, 1], linestyle='--')\n",
    "plt.plot(fpr, tpr, marker='.')\n",
    "plt.xlabel('FPR')\n",
    "plt.ylabel('TPR')\n",
    "plt.show()"
   ]
  },
  {
   "cell_type": "code",
   "execution_count": 20,
   "metadata": {},
   "outputs": [],
   "source": [
    "from keras.models import load_model\n",
    "\n",
    "model.save('total_coord_with_yoga_128_smote.h5')"
   ]
  },
  {
   "cell_type": "code",
   "execution_count": null,
   "metadata": {},
   "outputs": [],
   "source": []
  },
  {
   "cell_type": "code",
   "execution_count": null,
   "metadata": {},
   "outputs": [],
   "source": []
  }
 ],
 "metadata": {
  "kernelspec": {
   "display_name": "edu",
   "language": "python",
   "name": "edu"
  },
  "language_info": {
   "codemirror_mode": {
    "name": "ipython",
    "version": 3
   },
   "file_extension": ".py",
   "mimetype": "text/x-python",
   "name": "python",
   "nbconvert_exporter": "python",
   "pygments_lexer": "ipython3",
   "version": "3.8.2"
  }
 },
 "nbformat": 4,
 "nbformat_minor": 2
}
